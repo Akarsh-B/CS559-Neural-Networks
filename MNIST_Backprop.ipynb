{
 "cells": [
  {
   "cell_type": "code",
   "execution_count": 1,
   "metadata": {
    "colab": {},
    "colab_type": "code",
    "id": "vzzKmrkUcUFL"
   },
   "outputs": [],
   "source": [
    "#Necessary imports\n",
    "import numpy as np\n",
    "import matplotlib.pyplot as plt\n",
    "import os\n",
    "import gzip\n",
    "import math\n",
    "#np.random.seed(42)"
   ]
  },
  {
   "cell_type": "code",
   "execution_count": 2,
   "metadata": {
    "colab": {},
    "colab_type": "code",
    "id": "uq5x1ZGicUFS"
   },
   "outputs": [],
   "source": [
    "#Function to Load images from the file\n",
    "def load_images(filename):\n",
    "    with gzip.open(filename, 'rb') as f:\n",
    "        data = np.frombuffer(f.read(), np.uint8, offset=16)\n",
    "    return data.reshape(-1, 28 * 28)/ np.float32(256)"
   ]
  },
  {
   "cell_type": "code",
   "execution_count": 3,
   "metadata": {
    "colab": {},
    "colab_type": "code",
    "id": "6DigefTscUFX"
   },
   "outputs": [],
   "source": [
    "#Function to load labels from the file\n",
    "def load_labels(filename):\n",
    "    with gzip.open(filename, 'rb') as f:\n",
    "        data = np.frombuffer(f.read(), np.uint8, offset=8)\n",
    "    return data"
   ]
  },
  {
   "cell_type": "code",
   "execution_count": 4,
   "metadata": {
    "colab": {},
    "colab_type": "code",
    "id": "WnTutfHycUFa"
   },
   "outputs": [],
   "source": [
    "#Function to get images and labels from the corresponding files\n",
    "def load_data():\n",
    "    train_images = load_images('train-images-idx3-ubyte.gz')\n",
    "    train_labels = load_labels('train-labels-idx1-ubyte.gz')\n",
    "    test_images = load_images('t10k-images-idx3-ubyte.gz')\n",
    "    test_labels = load_labels('t10k-labels-idx1-ubyte.gz')\n",
    "    return train_images, train_labels, test_images, test_labels"
   ]
  },
  {
   "cell_type": "code",
   "execution_count": 5,
   "metadata": {
    "colab": {},
    "colab_type": "code",
    "id": "DhX2oNWKcUFe"
   },
   "outputs": [],
   "source": [
    "#Normalize the input data to avoid exploding for sigmoid activation function\n",
    "def normailize_input(train_images,test_images):\n",
    "    train_mean = train_images.mean()\n",
    "    test_mean = test_images.mean()\n",
    "    train_std = test_images.std()\n",
    "    test_std = test_images.std()\n",
    "    train_images = (train_images - train_mean) / train_std\n",
    "    test_images = (test_images - test_mean) / test_std\n",
    "    return train_images,test_images"
   ]
  },
  {
   "cell_type": "code",
   "execution_count": 6,
   "metadata": {
    "colab": {},
    "colab_type": "code",
    "id": "kr0J6NeRcUFi"
   },
   "outputs": [],
   "source": [
    "#Function to generate a numpy array for a desired output(one hot encoded)\n",
    "def get_desired_output(labels):\n",
    "    D = []\n",
    "    for label in labels:\n",
    "        output = np.zeros(10)\n",
    "        output[label] = 1\n",
    "        D.append(output)\n",
    "    return np.array(D)"
   ]
  },
  {
   "cell_type": "code",
   "execution_count": 7,
   "metadata": {
    "colab": {},
    "colab_type": "code",
    "id": "c6vWtjUDcUFq"
   },
   "outputs": [],
   "source": [
    "#Sigmoid activation function for forward propogation\n",
    "def sigmoid_function(v):\n",
    "    return 1/(1 + np.exp(-v))"
   ]
  },
  {
   "cell_type": "code",
   "execution_count": 8,
   "metadata": {
    "colab": {},
    "colab_type": "code",
    "id": "q1NroEFWcUFt"
   },
   "outputs": [],
   "source": [
    "#Derivative of sigmoid activation function for backward propogation\n",
    "def derv_sigmoid_function(v):\n",
    "    return sigmoid_function(v) * (1 - sigmoid_function(v))"
   ]
  },
  {
   "cell_type": "code",
   "execution_count": 9,
   "metadata": {
    "colab": {},
    "colab_type": "code",
    "id": "2WJTQ28YcUFy"
   },
   "outputs": [],
   "source": [
    "#Function to generate weights and biases for the network, random uniform distribution\n",
    "def generate_weights():\n",
    "    w1 = np.random.uniform(-1,1,(100,784))\n",
    "    b = np.random.uniform(-1,1,(100,1))\n",
    "    w2 = np.random.uniform(-1,1,(100,100))\n",
    "    c = np.random.uniform(-1,1,(100,1))\n",
    "    w3 = np.random.uniform(-1,1,(10,100))\n",
    "    d = np.random.uniform(-1,1,(10,1))\n",
    "    W1 = np.concatenate((b,w1),axis = 1)\n",
    "    W2 = np.concatenate((c,w2),axis = 1)\n",
    "    W3 = np.concatenate((d,w3),axis = 1)\n",
    "    return W1,W2,W3"
   ]
  },
  {
   "cell_type": "code",
   "execution_count": 10,
   "metadata": {
    "colab": {
     "base_uri": "https://localhost:8080/",
     "height": 68
    },
    "colab_type": "code",
    "id": "mFc583sucUF1",
    "outputId": "b954d500-0c93-4f3f-a22b-ca01ea0608fc"
   },
   "outputs": [
    {
     "name": "stdout",
     "output_type": "stream",
     "text": [
      "Shape of W1: (100, 785)\n",
      "Shape of W2: (100, 101)\n",
      "Shape of W3: (10, 101)\n"
     ]
    }
   ],
   "source": [
    "train_images, train_labels, test_images, test_labels = load_data()\n",
    "train_images,test_images = normailize_input(train_images,test_images)\n",
    "D = get_desired_output(train_labels)\n",
    "D_test = get_desired_output(test_labels)\n",
    "W1,W2,W3 = generate_weights()\n",
    "print('Shape of W1: {}'.format(W1.shape))\n",
    "print('Shape of W2: {}'.format(W2.shape))\n",
    "print('Shape of W3: {}'.format(W3.shape))"
   ]
  },
  {
   "cell_type": "code",
   "execution_count": 11,
   "metadata": {},
   "outputs": [],
   "source": [
    "#Function to plot the enery values and misclassifications v/s the number of epochs\n",
    "def plot(epochs,train_data,test_data,variant,label1,label2):\n",
    "    fig,ax = plt.subplots(figsize=(8,8))\n",
    "    train_misclassifications = plt.plot(epochs,train_data,label = label1)\n",
    "    test_misclassifications = plt.plot(epochs,test_data,label = label2)\n",
    "    if variant == 'misclassification_plot':\n",
    "        plt.title('Plot of Number of Misclassifications Vs Number of epochs')\n",
    "        plt.ylabel('Number of Mis classifications')\n",
    "    elif variant == 'energy_plot':\n",
    "        plt.title('Plot of Number of Energy Vs Number of epochs')\n",
    "        plt.ylabel('Energy values')\n",
    "    plt.xlabel('Number of epochs')\n",
    "    ax.legend(loc = 'best')\n",
    "    plt.show()\n",
    "    return"
   ]
  },
  {
   "cell_type": "code",
   "execution_count": 12,
   "metadata": {
    "colab": {},
    "colab_type": "code",
    "id": "1I3O-vincUF5"
   },
   "outputs": [],
   "source": [
    "#Function to implement forward and backward propogation and find the desired set of weights of the network\n",
    "def forward_backward_prop(eta,X,X_test,D,D_test,W1,W2,W3):\n",
    "    epoch = 0\n",
    "    epochs = []\n",
    "    errors_train = []\n",
    "    errors_test = []\n",
    "    energies_train = []\n",
    "    energies_test = []\n",
    "    classification_errors_train = []\n",
    "    classification_errors_test = []\n",
    "    while epoch < 200:\n",
    "        #Training Data\n",
    "        Y3 = []\n",
    "        Y3_test = []\n",
    "        energy_train = 0\n",
    "        energy_test = 0\n",
    "        misclassifications = 0\n",
    "        misclassifications_test = 0\n",
    "        for i in range(len(X)):\n",
    "            #first layer\n",
    "            x = X[i].reshape(784,1)\n",
    "            unit = np.ones((1,1))\n",
    "            v1 = np.matmul(W1,np.vstack((unit,x)))\n",
    "            y1 = sigmoid_function(v1)\n",
    "            #second_layer\n",
    "            v2 = np.matmul(W2,np.vstack((unit,y1)))\n",
    "            y2 = sigmoid_function(v2)\n",
    "            #output layer\n",
    "            v3 = np.matmul(W3,np.vstack((unit,y2)))\n",
    "            y3 = sigmoid_function(v3)\n",
    "            Y3.append(y3)\n",
    "            \n",
    "            #check train misclassifications\n",
    "            if np.argmax(y3) != np.argmax(D[i]):\n",
    "                misclassifications+= 1\n",
    "            #Calculate the train energy using the function provided\n",
    "            energy_train+= (np.sum(np.subtract(D[i].reshape(10,1),Y3[i])) ** 2) / 2\n",
    "\n",
    "            #backpropogation\n",
    "            delta_3 = np.multiply(np.subtract(D[i].reshape(10,1),y3),derv_sigmoid_function(v3))\n",
    "            delta_2 = np.multiply(np.matmul(W3.transpose(),delta_3)[1:,:],derv_sigmoid_function(v2))\n",
    "            delta_1 = np.multiply(np.matmul(W2.transpose(),delta_2)[1:,:],derv_sigmoid_function(v1))\n",
    "\n",
    "            dE_dW1 = np.matmul(-delta_1,np.vstack((unit,x)).transpose())\n",
    "            dE_dW2 = np.matmul(-delta_2,np.vstack((unit,y1)).transpose())\n",
    "            dE_dW3 = np.matmul(-delta_3,np.vstack((unit,y2)).transpose())\n",
    "            \n",
    "            #update weights\n",
    "            W1 = W1 + (eta * np.matmul(delta_1,np.vstack((unit,x)).transpose()))\n",
    "            W2 = W2 + (eta * np.matmul(delta_2,np.vstack((unit,y1)).transpose()))\n",
    "            W3 = W3 + (eta * np.matmul(delta_3,np.vstack((unit,y2)).transpose()))\n",
    "        \n",
    "        energies_train.append(energy_train)\n",
    "        classification_errors_train.append(misclassifications)\n",
    "        pct_mis_classifications = misclassifications/len(X)\n",
    "        pct_accuracy = (len(X) - misclassifications)/len(X)\n",
    "        print('epoch:',epoch)\n",
    "        #print('\\nTrain - Number of Misclassifications = {}'.format(misclassifications))\n",
    "        #print('Train - Number of Correct Classfications = {}'.format(len(X) - misclassifications))\n",
    "        print('Train - Accuracy = {}'.format(pct_accuracy * 100))\n",
    "        print('Train - Percentage Misclassifications = {}'.format(pct_mis_classifications))\n",
    "        \n",
    "        #calculate Mean Squared train errror  \n",
    "        error_train = 0\n",
    "        for i in range(len(D)):\n",
    "            error_train+= (np.subtract(D[i].reshape(10,1),Y3[i]) ** 2).mean()\n",
    "        mse_train = error_train/len(D)\n",
    "        errors_train.append(mse_train)\n",
    "        \n",
    "        #Test Data\n",
    "        for i in range(len(X_test)):\n",
    "            x = X_test[i].reshape(784,1)\n",
    "            unit = np.ones((1,1))\n",
    "            v1 = np.matmul(W1,np.vstack((unit,x)))\n",
    "            y1 = sigmoid_function(v1)\n",
    "            #second_layer\n",
    "            v2 = np.matmul(W2,np.vstack((unit,y1)))\n",
    "            y2 = sigmoid_function(v2)\n",
    "            #output layer\n",
    "            v3 = np.matmul(W3,np.vstack((unit,y2)))\n",
    "            y3_test = sigmoid_function(v3)\n",
    "            Y3_test.append(y3)\n",
    "        \n",
    "            #check test misclassifications\n",
    "            if np.argmax(y3_test) != np.argmax(D_test[i]):\n",
    "                misclassifications_test+= 1\n",
    "            \n",
    "            #Calculate the test energy using the function provided\n",
    "            energy_test+= (np.sum(np.subtract(D_test[i].reshape(10,1),Y3_test[i])) ** 2) / 2\n",
    "            \n",
    "        energies_test.append(energy_test)\n",
    "        classification_errors_test.append(misclassifications_test)\n",
    "        pct_mis_classifications_test = misclassifications_test/len(X_test)\n",
    "        pct_accuracy_test = (len(X_test) - misclassifications_test)/len(X_test)\n",
    "        print('-' * 50)\n",
    "        #print('Test - Number of Misclassifications = {}'.format(misclassifications_test))\n",
    "        #print('Test - Number of Correct Classfications = {}'.format(len(X_test) - misclassifications_test))\n",
    "        print('Test - Accuracy = {}'.format(pct_accuracy_test * 100))\n",
    "        print('Train - Percentage Misclassifications = {}'.format(pct_mis_classifications_test))\n",
    "        print('*' * 50)\n",
    "        \n",
    "        #calculate test error    \n",
    "        error_test = 0\n",
    "        for i in range(len(D_test)):\n",
    "            error_test+= (np.subtract(D_test[i].reshape(10,1),Y3_test[i]) ** 2).mean()\n",
    "        mse_test = error_test/len(D_test)\n",
    "        errors_test.append(mse_test)\n",
    "        epochs.append(epoch)\n",
    "        \n",
    "        #checking for iteration - End the iteration\n",
    "        if epoch > 0:\n",
    "            if pct_mis_classifications  <= 0.01 :\n",
    "                break\n",
    "            if errors_train[epoch] > errors_train[epoch-1]:\n",
    "                eta = eta * 0.9\n",
    "        \n",
    "        epoch+= 1\n",
    "    print('epoch:',epoch)\n",
    "    print('\\nTrain - Number of Misclassifications = {}'.format(misclassifications))\n",
    "    print('Train - Number of Correct Classfications = {}'.format(len(X) - misclassifications))\n",
    "    print('Train - Accuracy = {}'.format(pct_accuracy * 100))\n",
    "    print('Train - Percentage Misclassifications = {}'.format(pct_mis_classifications))\n",
    "    print('-' * 50)\n",
    "    print('Test - Number of Misclassifications = {}'.format(misclassifications_test))\n",
    "    print('Test - Number of Correct Classfications = {}'.format(len(X_test) - misclassifications_test))\n",
    "    print('Test - Accuracy = {}'.format(pct_accuracy_test * 100))\n",
    "    print('Train - Percentage Misclassifications = {}'.format(pct_mis_classifications_test))\n",
    "    return energies_train,classification_errors_train,errors_train,energies_test,classification_errors_test,errors_test,epochs,W1,W2,W3"
   ]
  },
  {
   "cell_type": "code",
   "execution_count": 13,
   "metadata": {
    "colab": {
     "base_uri": "https://localhost:8080/",
     "height": 1000
    },
    "colab_type": "code",
    "id": "ALQKoOpDcUF7",
    "outputId": "00410f3a-5b2f-4102-9d82-1593fcc46445"
   },
   "outputs": [
    {
     "name": "stdout",
     "output_type": "stream",
     "text": [
      "epoch: 0\n",
      "Train - Accuracy = 86.53166666666667\n",
      "Train - Percentage Misclassifications = 0.13468333333333332\n",
      "--------------------------------------------------\n",
      "Test - Accuracy = 91.31\n",
      "Train - Percentage Misclassifications = 0.0869\n",
      "**************************************************\n",
      "epoch: 1\n",
      "Train - Accuracy = 93.24333333333334\n",
      "Train - Percentage Misclassifications = 0.06756666666666666\n",
      "--------------------------------------------------\n",
      "Test - Accuracy = 93.83\n",
      "Train - Percentage Misclassifications = 0.0617\n",
      "**************************************************\n",
      "epoch: 2\n",
      "Train - Accuracy = 94.81833333333334\n",
      "Train - Percentage Misclassifications = 0.051816666666666664\n",
      "--------------------------------------------------\n",
      "Test - Accuracy = 94.0\n",
      "Train - Percentage Misclassifications = 0.06\n",
      "**************************************************\n",
      "epoch: 3\n",
      "Train - Accuracy = 95.69666666666666\n",
      "Train - Percentage Misclassifications = 0.04303333333333333\n",
      "--------------------------------------------------\n",
      "Test - Accuracy = 94.99\n",
      "Train - Percentage Misclassifications = 0.0501\n",
      "**************************************************\n",
      "epoch: 4\n",
      "Train - Accuracy = 96.38\n",
      "Train - Percentage Misclassifications = 0.0362\n",
      "--------------------------------------------------\n",
      "Test - Accuracy = 95.06\n",
      "Train - Percentage Misclassifications = 0.0494\n",
      "**************************************************\n",
      "epoch: 5\n",
      "Train - Accuracy = 96.83\n",
      "Train - Percentage Misclassifications = 0.0317\n",
      "--------------------------------------------------\n",
      "Test - Accuracy = 95.35\n",
      "Train - Percentage Misclassifications = 0.0465\n",
      "**************************************************\n",
      "epoch: 6\n",
      "Train - Accuracy = 97.16166666666666\n",
      "Train - Percentage Misclassifications = 0.028383333333333333\n",
      "--------------------------------------------------\n",
      "Test - Accuracy = 95.57\n",
      "Train - Percentage Misclassifications = 0.0443\n",
      "**************************************************\n",
      "epoch: 7\n",
      "Train - Accuracy = 97.55833333333334\n",
      "Train - Percentage Misclassifications = 0.024416666666666666\n",
      "--------------------------------------------------\n",
      "Test - Accuracy = 95.52000000000001\n",
      "Train - Percentage Misclassifications = 0.0448\n",
      "**************************************************\n",
      "epoch: 8\n",
      "Train - Accuracy = 97.76833333333333\n",
      "Train - Percentage Misclassifications = 0.022316666666666665\n",
      "--------------------------------------------------\n",
      "Test - Accuracy = 95.75\n",
      "Train - Percentage Misclassifications = 0.0425\n",
      "**************************************************\n",
      "epoch: 9\n",
      "Train - Accuracy = 98.02\n",
      "Train - Percentage Misclassifications = 0.0198\n",
      "--------------------------------------------------\n",
      "Test - Accuracy = 96.14\n",
      "Train - Percentage Misclassifications = 0.0386\n",
      "**************************************************\n",
      "epoch: 10\n",
      "Train - Accuracy = 98.22999999999999\n",
      "Train - Percentage Misclassifications = 0.0177\n",
      "--------------------------------------------------\n",
      "Test - Accuracy = 95.99\n",
      "Train - Percentage Misclassifications = 0.0401\n",
      "**************************************************\n",
      "epoch: 11\n",
      "Train - Accuracy = 98.345\n",
      "Train - Percentage Misclassifications = 0.01655\n",
      "--------------------------------------------------\n",
      "Test - Accuracy = 95.95\n",
      "Train - Percentage Misclassifications = 0.0405\n",
      "**************************************************\n",
      "epoch: 12\n",
      "Train - Accuracy = 98.45166666666667\n",
      "Train - Percentage Misclassifications = 0.015483333333333333\n",
      "--------------------------------------------------\n",
      "Test - Accuracy = 96.04\n",
      "Train - Percentage Misclassifications = 0.0396\n",
      "**************************************************\n",
      "epoch: 13\n",
      "Train - Accuracy = 98.58333333333333\n",
      "Train - Percentage Misclassifications = 0.014166666666666666\n",
      "--------------------------------------------------\n",
      "Test - Accuracy = 96.15\n",
      "Train - Percentage Misclassifications = 0.0385\n",
      "**************************************************\n",
      "epoch: 14\n",
      "Train - Accuracy = 98.675\n",
      "Train - Percentage Misclassifications = 0.01325\n",
      "--------------------------------------------------\n",
      "Test - Accuracy = 95.96000000000001\n",
      "Train - Percentage Misclassifications = 0.0404\n",
      "**************************************************\n",
      "epoch: 15\n",
      "Train - Accuracy = 98.74833333333333\n",
      "Train - Percentage Misclassifications = 0.012516666666666667\n",
      "--------------------------------------------------\n",
      "Test - Accuracy = 95.97\n",
      "Train - Percentage Misclassifications = 0.0403\n",
      "**************************************************\n",
      "epoch: 16\n",
      "Train - Accuracy = 98.83166666666666\n",
      "Train - Percentage Misclassifications = 0.011683333333333334\n",
      "--------------------------------------------------\n",
      "Test - Accuracy = 95.86\n",
      "Train - Percentage Misclassifications = 0.0414\n",
      "**************************************************\n",
      "epoch: 17\n",
      "Train - Accuracy = 98.86833333333334\n",
      "Train - Percentage Misclassifications = 0.011316666666666666\n",
      "--------------------------------------------------\n",
      "Test - Accuracy = 96.0\n",
      "Train - Percentage Misclassifications = 0.04\n",
      "**************************************************\n",
      "epoch: 18\n",
      "Train - Accuracy = 98.91\n",
      "Train - Percentage Misclassifications = 0.0109\n",
      "--------------------------------------------------\n",
      "Test - Accuracy = 96.06\n",
      "Train - Percentage Misclassifications = 0.0394\n",
      "**************************************************\n",
      "epoch: 19\n",
      "Train - Accuracy = 98.95666666666668\n",
      "Train - Percentage Misclassifications = 0.010433333333333333\n",
      "--------------------------------------------------\n",
      "Test - Accuracy = 96.12\n",
      "Train - Percentage Misclassifications = 0.0388\n",
      "**************************************************\n",
      "epoch: 20\n",
      "Train - Accuracy = 98.99333333333334\n",
      "Train - Percentage Misclassifications = 0.010066666666666666\n",
      "--------------------------------------------------\n",
      "Test - Accuracy = 96.05\n",
      "Train - Percentage Misclassifications = 0.0395\n",
      "**************************************************\n",
      "epoch: 21\n",
      "Train - Accuracy = 99.00666666666666\n",
      "Train - Percentage Misclassifications = 0.009933333333333334\n",
      "--------------------------------------------------\n",
      "Test - Accuracy = 96.1\n",
      "Train - Percentage Misclassifications = 0.039\n",
      "**************************************************\n",
      "epoch: 21\n",
      "\n",
      "Train - Number of Misclassifications = 596\n",
      "Train - Number of Correct Classfications = 59404\n",
      "Train - Accuracy = 99.00666666666666\n",
      "Train - Percentage Misclassifications = 0.009933333333333334\n",
      "--------------------------------------------------\n",
      "Test - Number of Misclassifications = 390\n",
      "Test - Number of Correct Classfications = 9610\n",
      "Test - Accuracy = 96.1\n",
      "Train - Percentage Misclassifications = 0.039\n"
     ]
    }
   ],
   "source": [
    "eta = 0.1\n",
    "energies_train,classification_errors_train,mse_errors_train,energies_test,classification_errors_test,mse_errors_test,epochs,W1,W2,W3 = forward_backward_prop(eta,train_images,test_images,D,D_test,W1,W2,W3)"
   ]
  },
  {
   "cell_type": "code",
   "execution_count": 14,
   "metadata": {},
   "outputs": [
    {
     "data": {
      "image/png": "[encoded data removed]",
      "text/plain": [
       "<Figure size 576x576 with 1 Axes>"
      ]
     },
     "metadata": {
      "needs_background": "light"
     },
     "output_type": "display_data"
    },
    {
     "data": {
      "image/png": "[encoded data removed]",
      "text/plain": [
       "<Figure size 576x576 with 1 Axes>"
      ]
     },
     "metadata": {
      "needs_background": "light"
     },
     "output_type": "display_data"
    }
   ],
   "source": [
    "_ = plot(epochs,classification_errors_train,classification_errors_test,'misclassification_plot','train_misclassifications','test_misclassifications')\n",
    "_ = plot(epochs,energies_train,energies_test,'energy_plot','train_energies','test_energies')"
   ]
  }
 ],
 "metadata": {
  "colab": {
   "collapsed_sections": [],
   "name": "q1 (1).ipynb",
   "provenance": []
  },
  "kernelspec": {
   "display_name": "Python 3",
   "language": "python",
   "name": "python3"
  },
  "language_info": {
   "codemirror_mode": {
    "name": "ipython",
    "version": 3
   },
   "file_extension": ".py",
   "mimetype": "text/x-python",
   "name": "python",
   "nbconvert_exporter": "python",
   "pygments_lexer": "ipython3",
   "version": "3.5.3"
  }
 },
 "nbformat": 4,
 "nbformat_minor": 4
}
